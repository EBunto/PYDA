{
 "cells": [
  {
   "cell_type": "markdown",
   "metadata": {},
   "source": [
    "# Home assignmnet for lecture \"Data Types and Loops. Part1\""
   ]
  },
  {
   "cell_type": "markdown",
   "metadata": {},
   "source": [
    "## Task 1\n",
    "A variable is given that stores a word made up of Latin letters. Write the code that displays: \n",
    "- middle letter, if the number of letters in the word is odd;\n",
    "- two middle letters, if the number of letters is even.\n",
    "\n",
    "\n",
    "Example:  \n",
    "1. `word = 'test'`\n",
    "\n",
    "Result:  \n",
    "`es`  \n",
    "  \n",
    "2.     \n",
    "`word = 'testing'`\n",
    "\n",
    "Result:  \n",
    "`t`"
   ]
  },
  {
   "cell_type": "code",
   "execution_count": 10,
   "metadata": {},
   "outputs": [
    {
     "name": "stdout",
     "output_type": "stream",
     "text": [
      "Please enter a string: wordikk\n",
      "d\n"
     ]
    }
   ],
   "source": [
    "# Solution without loops\n",
    "word = input('Please enter a string: ')\n",
    "length = len(word)\n",
    "mid = int(length / 2)\n",
    "\n",
    "if length % 2 == 0:\n",
    "    print (word[mid - 1 : mid + 1])\n",
    "else:\n",
    "    print (word[mid : mid + 1])"
   ]
  },
  {
   "cell_type": "code",
   "execution_count": 13,
   "metadata": {},
   "outputs": [
    {
     "name": "stdout",
     "output_type": "stream",
     "text": [
      "Please enter a string: wordikk\n",
      "d\n"
     ]
    }
   ],
   "source": [
    "# Solution with Loop\n",
    "\n",
    "word = input('Please enter a string: ')\n",
    "length = len(word)\n",
    "\n",
    "while (length > 2):\n",
    "    word=word[1 : length - 1]\n",
    "    length=len(word)\n",
    "print(word)"
   ]
  },
  {
   "cell_type": "markdown",
   "metadata": {},
   "source": [
    "## Task 2\n",
    "Write a program that prompts the user for numbers sequentially (one at a time) and after the first zero prints the sum of all previously entered numbers.\n",
    "\n",
    "Example:  \n",
    "1.   \n",
    "\n",
    "```\n",
    "Enter a number:  \n",
    "1\n",
    "\n",
    "Enter a number: \n",
    "4\n",
    "\n",
    "Enter a number:   \n",
    "6\n",
    "\n",
    "Enter a number:  \n",
    "0\n",
    "```\n",
    "\n",
    "Result:  `11`\n",
    "\n",
    "2.  \n",
    "```\n",
    "Enter a number:  \n",
    "0\n",
    "```\n",
    "\n",
    "Result: `0`"
   ]
  },
  {
   "cell_type": "code",
   "execution_count": 55,
   "metadata": {},
   "outputs": [
    {
     "name": "stdout",
     "output_type": "stream",
     "text": [
      "Please enter one number: 1\n",
      "Please enter one number: 6\n",
      "Please enter one number: 9\n",
      "Please enter one number: 0\n",
      "List of numbers that you enetered: [1, 6, 9, 0]\n",
      "Sum of numbers in the List: 16\n"
     ]
    }
   ],
   "source": [
    "number = 1\n",
    "ListOfNumbers = []\n",
    "\n",
    "while number != 0:\n",
    "    number = int(input('Please enter one number: '))\n",
    "    ListOfNumbers.append(number) \n",
    "\n",
    "print(f'List of numbers that you enetered: {ListOfNumbers}')\n",
    "print(f'Sum of numbers in the List: {sum(ListOfNumbers)}')"
   ]
  },
  {
   "cell_type": "markdown",
   "metadata": {},
   "source": [
    "## Task 3\n",
    "\n",
    "We are making an MVP of a dating service, and we have a list of guys and girls. Let's hypothesize: we'll get better recommendations if we simply sort the names alphabetically and introduce people to the same indexes after sorting! But we won’t introduce anyone if someone might be left without a date:\n",
    "\n",
    "Example:  \n",
    "1.  \n",
    "\n",
    "```\n",
    "boys = ['Peter', 'Alex', 'John', 'Arthur', 'Richard']\n",
    "girls = ['Kate', 'Liza', 'Kira', 'Emma', 'Trisha']\n",
    "```\n",
    "\n",
    "Results:  \n",
    "```\n",
    "Couples:  \n",
    "Alex и Emma  \n",
    "Arthur и Kate  \n",
    "John и Kira  \n",
    "Peter и Liza  \n",
    "Richard и Trisha \n",
    "```\n",
    "2.     \n",
    "\n",
    "```\n",
    "boys = ['Peter', 'Alex', 'John', 'Arthur', 'Richard', 'Michael']\n",
    "girls = ['Kate', 'Liza', 'Kira', 'Emma', 'Trisha']\n",
    "```\n",
    "\n",
    "Results:  \n",
    "`Attention! Somebody will be alone!`"
   ]
  },
  {
   "cell_type": "code",
   "execution_count": 4,
   "metadata": {},
   "outputs": [
    {
     "name": "stdout",
     "output_type": "stream",
     "text": [
      "Couples:\n",
      "Alex and Emma\n",
      "Arthur and Kate\n",
      "John and Kira\n",
      "Peter and Liza\n",
      "Richard and Trisha\n"
     ]
    }
   ],
   "source": [
    "boys = ['Peter', 'Alex', 'John', 'Arthur', 'Richard']\n",
    "girls = ['Kate', 'Liza', 'Kira', 'Emma', 'Trisha']\n",
    "\n",
    "if len(boys) != len (girls):\n",
    "    print('Attention! Somebody will be alone!')\n",
    "else:\n",
    "    boys.sort()\n",
    "    girls.sort()\n",
    "    couple = zip(boys,girls)\n",
    "    couple_list = list(couple)\n",
    "    print('Couples:')\n",
    "    for name in couple_list:\n",
    "        print(f'{name[0]} and {name[1]}')"
   ]
  },
  {
   "cell_type": "markdown",
   "metadata": {},
   "source": [
    "## Task 4\n",
    "\n",
    "We have a list containing information about the average daily temperature in Fahrenheit for an arbitrary period by country (data structure in the example). You need to write a code that will calculate the average temperature over a period in Celsius(!) for each country.\n",
    "\n",
    "Example:  \n",
    "```\n",
    "countries_temperature = [\n",
    "    ['Thailand', [75.2, 77, 78.8, 73.4, 68, 75.2, 77]],\n",
    "    ['Germany', [57.2, 55.4, 59, 59, 53.6]],\n",
    "    ['Russia', [35.6, 37.4, 39.2, 41, 42.8, 39.2, 35.6]],\n",
    "    ['Poland', [50, 50, 53.6, 57.2, 55.4, 55.4]]\n",
    "]\n",
    "```\n",
    "\n",
    "Result:  \n",
    "```\n",
    "Average tempreture in Countries:\n",
    "Thailand  -  23.9 С\n",
    "Germany  -  13.8 С\n",
    "Russia  -  3.7 С\n",
    "Poland  -  12.0 С\n",
    "```\n",
    "\n",
    "(Fahrenheit — 32) : 1,8 = Celsius "
   ]
  },
  {
   "cell_type": "code",
   "execution_count": 10,
   "metadata": {},
   "outputs": [
    {
     "name": "stdout",
     "output_type": "stream",
     "text": [
      "Average tempreture in Countries:\n",
      "Thailand - 23.86 Celsius\n",
      "Germany - 13.8 Celsius\n",
      "Russia - 3.71 Celsius\n",
      "Poland - 12.0 Celsius\n"
     ]
    }
   ],
   "source": [
    "countries_temperature = [\n",
    "    ['Thailand', [75.2, 77, 78.8, 73.4, 68, 75.2, 77]],\n",
    "    ['Germany', [57.2, 55.4, 59, 59, 53.6]],\n",
    "    ['Russia', [35.6, 37.4, 39.2, 41, 42.8, 39.2, 35.6]],\n",
    "    ['Poland', [50, 50, 53.6, 57.2, 55.4, 55.4]]\n",
    "]\n",
    "\n",
    "print('Average tempreture in Countries:')\n",
    "for country in countries_temperature:\n",
    "    # Calulate average temperature in Fahrenheit and then convert to Celsius\n",
    "    avg_temperature = round((sum(country[1]) / len(country[1]) - 32 ) / 1.8 , 2)\n",
    "    print(f'{country[0]} - {avg_temperature} Celsius')"
   ]
  },
  {
   "cell_type": "markdown",
   "metadata": {},
   "source": [
    "## Task 5\n",
    "There is a list with transport numbers. You need to write a code that will check each number for validity (1 letter, 3 numbers, 2 letters, 2-3 numbers). \n",
    "Please note that not all letters of the Cyrillic alphabet are used in transport numbers. \n",
    "\n",
    "If the number is valid, then display it in the required format (example below), and if it is not valid, display the text. Regular expressions, which you will become familiar with in practice, will help you solve this problem. \n",
    "\n",
    "Examples of the program:\n",
    "`car_ids = ['А222ВС96', 'АБ22ВВ193']`\n",
    "\n",
    "Result: \n",
    "```\n",
    "Number А222ВС is valid. Region: 96\n",
    "Number АБ22ВВ193 is not valid\n",
    "```"
   ]
  },
  {
   "cell_type": "code",
   "execution_count": 12,
   "metadata": {},
   "outputs": [
    {
     "name": "stdout",
     "output_type": "stream",
     "text": [
      "Number А222ВС96 is valid. Region number is 96.\n",
      "Number АБ22ВВ193 is not valid\n"
     ]
    }
   ],
   "source": [
    "import re\n",
    "# Define transport number patter \n",
    "pattern_ids = \"^[АВЕКМНОРСТУХ]{1}[0-9]{3}[АВЕКМНОРСТУХ]{2}[0-9]{2,3}$\"\n",
    "# Define region number patter\n",
    "pattern_region = \"[0-9]{2,3}$\"\n",
    "# Input Data\n",
    "car_ids = ['А222ВС96', 'АБ22ВВ193']\n",
    "# Compile regilar expressions\n",
    "p = re.compile(pattern_ids)\n",
    "r = re.compile(pattern_region)\n",
    "\n",
    "\n",
    "for ids in car_ids:\n",
    "    if p.match(ids):\n",
    "        region = r.search(ids)\n",
    "        print(f'Number {ids} is valid. Region number is {region.group()}.')\n",
    "    else: print(f'Number {ids} is not valid')\n",
    " "
   ]
  },
  {
   "cell_type": "markdown",
   "metadata": {},
   "source": [
    "## Task 6\n",
    "\n",
    "A stream of logs is given for the number of pages viewed for each user (`user, date, views`). You need to write an algorithm that calculates the average of views per user. That is, you need to calculate the ratio of the sum of all views to the number of unique users. And here regular expressions will make implementation a little easier.\n",
    "\n",
    "\n",
    "Examples of the program:\n",
    "1.  \n",
    "\n",
    "```\n",
    "stream = [\n",
    "    'user4,2021-01-01;3',\n",
    "    'user3,2022-01-07;4',\n",
    "    'user2,2022-03-29;1',\n",
    "    'user1,2020-04-04;13',\n",
    "    'user2,2022-01-05;7',\n",
    "    'user1,2021-06-14;4',\n",
    "    'user3,2022-07-02;10',\n",
    "    'user4,2021-03-21;19',\n",
    "    'user4,2022-03-22;4',\n",
    "    'user4,2022-04-22;8',\n",
    "    'user4,2021-05-03;9',\n",
    "    'user4,2022-05-11;11'\n",
    "]\n",
    "```\n",
    "\n",
    "Result:  \n",
    "`Average views per unique user: 23.25`  \n",
    "\n",
    "2.     \n",
    "\n",
    "```\n",
    "stream = [\n",
    "    'user100,2022-01-01;150',\n",
    "    'user99,2022-01-07;205',\n",
    "    'user1001,2022-03-29;81'\n",
    "]\n",
    "```\n",
    "\n",
    "Result:  \n",
    "`Average views per unique user: 145.33`"
   ]
  },
  {
   "cell_type": "code",
   "execution_count": 56,
   "metadata": {},
   "outputs": [
    {
     "name": "stdout",
     "output_type": "stream",
     "text": [
      "Average views per unique user: 23.25\n"
     ]
    }
   ],
   "source": [
    "import re\n",
    "\n",
    "stream = [\n",
    "    'user4,2021-01-01;3',\n",
    "    'user3,2022-01-07;4',\n",
    "    'user2,2022-03-29;1',\n",
    "    'user1,2020-04-04;13',\n",
    "    'user2,2022-01-05;7',\n",
    "    'user1,2021-06-14;4',\n",
    "    'user3,2022-07-02;10',\n",
    "    'user4,2021-03-21;19',\n",
    "    'user4,2022-03-22;4',\n",
    "    'user4,2022-04-22;8',\n",
    "    'user4,2021-05-03;9',\n",
    "    'user4,2022-05-11;11'\n",
    "]\n",
    "\n",
    "parsed_data = []\n",
    "\n",
    "for log in stream:\n",
    "    user, date, views = re.split(r\"[,;]\", log)\n",
    "    views = int(views)\n",
    "    \n",
    "    entry = {'user': user, 'date': date, 'views': views}\n",
    "    parsed_data.append(entry)\n",
    "\n",
    "# Now, the `parsed_data` list contains dictionaries with user, date, and views information for each log entry.\n",
    "# You can access this data as needed.\n",
    "\n",
    "\n",
    "# Initialize a dictionary to store total views for each user\n",
    "user_views = {}\n",
    "\n",
    "# Iterate through the parsed data and calculate total views for each user\n",
    "for entry in parsed_data:\n",
    "    user = entry['user']\n",
    "    views = entry['views']\n",
    "    if user in user_views:\n",
    "        user_views[user] += views\n",
    "    else:\n",
    "        user_views[user] = views\n",
    "\n",
    "# Calculate the total sum of views and the number of unique users\n",
    "total_views = sum(user_views.values())\n",
    "unique_users = len(user_views)\n",
    "\n",
    "# Calculate the ratio of the sum of views to the number of unique users\n",
    "average_views = total_views / unique_users\n",
    "\n",
    "# Print the result\n",
    "print(f\"Average views per unique user: {average_views:.2f}\")\n"
   ]
  }
 ],
 "metadata": {
  "kernelspec": {
   "display_name": "Python 3 (ipykernel)",
   "language": "python",
   "name": "python3"
  },
  "language_info": {
   "codemirror_mode": {
    "name": "ipython",
    "version": 3
   },
   "file_extension": ".py",
   "mimetype": "text/x-python",
   "name": "python",
   "nbconvert_exporter": "python",
   "pygments_lexer": "ipython3",
   "version": "3.11.5"
  }
 },
 "nbformat": 4,
 "nbformat_minor": 2
}
