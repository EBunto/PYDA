{
 "cells": [
  {
   "cell_type": "markdown",
   "metadata": {},
   "source": [
    "# Homework for the \"Python Basics\" Lecture"
   ]
  },
  {
   "cell_type": "markdown",
   "metadata": {},
   "source": [
    "## Task 1\n",
    " \n",
    "<p> Given 2 variables containing strings of arbitrary lengths: phrase_1 and phrase_2. <br>\n",
    "    Write code to determine which of these strings is longer. </p>\n",
    "\n",
    "### Examples of program execution:\n",
    "\n",
    "phrase_1 = 'How much easier it would be to write programs if there were no customers' <br>\n",
    "phrase_2 = '640K should be enough for any task. Bill Gates (legend has it)'<br>\n",
    "\n",
    "<b>Result:</b><br>\n",
    "<code>Phrase 1 is longer than phrase 2 by 2 characters.</code>\n",
    "\n",
    "phrase_1 = '640K should be enough for any task. Bill Gates (legend has it)'<br>\n",
    "phrase_2 = 'How much easier it would be to write programs if there were no customers'<br>\n",
    "\n",
    "<b>Result:</b><br>\n",
    "<code>Phrase 2 is longer than phrase 1 by 3 characters.</code>\n",
    "\n",
    "phrase_1 = 'How much easier it would be to write programs if there were no customers'<br>\n",
    "phrase_2 = 'How much easier it would be to write programs if there were no customers'<br>\n",
    "\n",
    "<b>Result:</b><br>\n",
    "<code> Phrases are of equal length</code>\n"
   ]
  },
  {
   "cell_type": "code",
   "execution_count": 13,
   "metadata": {},
   "outputs": [
    {
     "name": "stdout",
     "output_type": "stream",
     "text": [
      "Hello! This programm helps you to compare lengths of 2 phrases.\n",
      "Please input phrase 1:Mama\n",
      "Please input phrase 2:Papa\n",
      "Phrases are equal.\n",
      "This is the End\n"
     ]
    }
   ],
   "source": [
    "print('Hello! This programm helps you to compare lengths of 2 phrases.')\n",
    "phrase_1 = input('Please input phrase 1:')\n",
    "phrase_2 = input('Please input phrase 2:')\n",
    "\n",
    "if len(phrase_1) > len(phrase_2):\n",
    "    print('Phrase 1 longer, than phrase 2.')\n",
    "elif len(phrase_1) < len(phrase_2):\n",
    "     print('Phrase 2 longer, than phrase 1.')      \n",
    "else: print('Phrases are equal.')\n",
    "\n",
    "print('This is the End.')"
   ]
  },
  {
   "cell_type": "markdown",
   "metadata": {},
   "source": [
    "## Task 2"
   ]
  },
  {
   "cell_type": "markdown",
   "metadata": {},
   "source": [
    "Given a variable containing a number (year). Write a program to determine whether the given year is a leap year or a regular year.\n",
    "\n",
    "### Example of program execution:\n",
    "1. \n",
    "```\n",
    "year = 2020\n",
    "```\n",
    "Result:\n",
    "`Leap year`\n",
    "\n",
    "2. \n",
    "\n",
    "```\n",
    "year = 2019\n",
    "```\n",
    "Result:\n",
    "`Regular year`"
   ]
  },
  {
   "cell_type": "code",
   "execution_count": 20,
   "metadata": {},
   "outputs": [
    {
     "name": "stdout",
     "output_type": "stream",
     "text": [
      "Hello! This programm helps you to define if year Leap or Regular.\n",
      "Please input the Year:2024\n",
      "Leap year.\n",
      "This is the End\n"
     ]
    }
   ],
   "source": [
    "print('Hello! This programm helps you to define if year Leap or Regular.')\n",
    "year = int(input('Please input the Year:'))\n",
    "\n",
    "if year % 4 == 0  or (year % 100 != 0 and year % 400 == 0):\n",
    "    print('Leap year.')      \n",
    "else: print('Regular Year.')\n",
    "\n",
    "print('This is the End')"
   ]
  },
  {
   "cell_type": "markdown",
   "metadata": {},
   "source": [
    "## Task 3"
   ]
  },
  {
   "cell_type": "markdown",
   "metadata": {},
   "source": [
    "It is necessary to write a program that will prompt the user for their month and date of birth and display the corresponding zodiac sign.\n",
    "\n",
    "### Example:  \n",
    "1.  \n",
    "\n",
    "```\n",
    "Input a day:\n",
    "30\n",
    "\n",
    "Input a month:\n",
    "August\n",
    "```\n",
    "Result:  \n",
    "`Zodiac sign: Virgo` \n",
    "\n",
    "2.  \n",
    "\n",
    "```\n",
    "Input a day:\n",
    "29\n",
    "\n",
    "Input a month:\n",
    "October\n",
    "```\n",
    "Result:  \n",
    "`Zodiac sign: Scorpius` "
   ]
  },
  {
   "cell_type": "code",
   "execution_count": 31,
   "metadata": {},
   "outputs": [
    {
     "name": "stdout",
     "output_type": "stream",
     "text": [
      "##Hello! This programm helps you to define Zodiac sign according to birth date.\n",
      "Please input a day of birth: 01\n",
      "Please input a month of birth: January\n",
      "♑ Capricornus (Goat): December 22–January 19\n",
      "This is the End.\n"
     ]
    }
   ],
   "source": [
    "print('Hello! This programm helps you to define Zodiac sign according to birth date.')\n",
    "day = int(input('Please input a day of birth: '))\n",
    "month = input('Please input a month of birth: ').capitalize()\n",
    "\n",
    "##Check Date\n",
    "if day <= 0 or day > 31:\n",
    "    print('Sorry, but the day is not correct.')\n",
    "elif month not in ('January','February','March','April','May','June','July','August','September','November','December'):\n",
    "    print('Sorry, but the month is not correct.')\n",
    "elif (month == 'March' and day >= 21) or (month == 'April' and day <= 19):\n",
    "    print('♈ Aries (Ram): March 21–April 19')\n",
    "elif (month == 'April' and day >= 20) or (month == 'May' and day <= 20):\n",
    "    print('♉ Taurus (Bull): April 20–May 20')\n",
    "elif (month == 'May' and day >= 21) or (month == 'June' and day <= 21):\n",
    "    print('♊ Gemini (Twins): May 21–June 21')    \n",
    "elif (month == 'June' and day >= 22) or (month == 'July' and day <= 22):\n",
    "    print('♋ Cancer (Crab): June 22–July 22')   \n",
    "elif (month == 'July' and day >= 23) or (month == 'August' and day <= 22):\n",
    "    print('♌ Leo (Lion): July 23–August 22')   \n",
    "elif (month == 'August' and day >= 23) or (month == 'September' and day <= 22):\n",
    "    print('♍ Virgo (Virgin): August 23–September 22')   \n",
    "elif (month == 'September' and day >= 23) or (month == 'October' and day <= 23):\n",
    "    print('♎ Libra (Balance): September 23–October 23')   \n",
    "elif (month == 'October' and day >= 24) or (month == 'November' and day <= 21):\n",
    "    print('♏ Scorpius (Scorpion): October 24–November 21')   \n",
    "elif (month == 'November' and day >= 22) or (month == 'December' and day <= 21):\n",
    "    print('♐ Sagittarius (Archer): November 22–December 21')      \n",
    "elif (month == 'December' and day >= 22) or (month == 'January' and day <= 19):\n",
    "    print('♑ Capricornus (Goat): December 22–January 19')  \n",
    "elif (month == 'January' and day >= 20) or (month == 'February' and day <= 18):\n",
    "    print('♒ Aquarius (Water Bearer): January 20–February 18')  \n",
    "else:\n",
    "    print('♓ Pisces (Fish): February 19–March 20')\n",
    "\n",
    "print('This is the End.')"
   ]
  },
  {
   "cell_type": "markdown",
   "metadata": {},
   "source": [
    "## Task 4"
   ]
  },
  {
   "cell_type": "markdown",
   "metadata": {},
   "source": [
    "You need to write a program for selecting packaging based on the dimensions of the product. The dimensions (width, length, height) are stored in variables (in centimeters):\n",
    "\n",
    "Use folowwing rules:\n",
    " - If each of the three dimensions is less than or equal to 15 centimeters, then display \"Box #1\" on the screen.\n",
    " - If at least one of the dimensions is greater than 2 meters, then output \"Ski packaging.\"\n",
    " - If at least one of the dimensions is greater than 15 centimeters but less than 50 centimeters, then output \"Box #2.\"\n",
    " - In all other cases, output \"Box #3.\"\n",
    "\n",
    "### Example:  \n",
    "1.  \n",
    "\n",
    "```\n",
    "width = 15\n",
    "length = 55\n",
    "height = 15\n",
    "```\n",
    "Result:  \n",
    "`Box #3` \n",
    "\n",
    "2.  \n",
    "\n",
    "```\n",
    "width = 45\n",
    "length = 205\n",
    "height = 45\n",
    "```\n",
    "Result:  \n",
    "`Box for Ski` "
   ]
  },
  {
   "cell_type": "code",
   "execution_count": 29,
   "metadata": {},
   "outputs": [
    {
     "name": "stdout",
     "output_type": "stream",
     "text": [
      "Hi! This Programm will help you to choose most suitable box.\n",
      "Width (cm): 205\n",
      "Length (cm): 6\n",
      "Height (cm): 15\n",
      "Box for Ski.\n"
     ]
    }
   ],
   "source": [
    "print('Hi! This Programm will help you to choose most suitable box.')\n",
    "width = int(input('Width (cm): '))\n",
    "length = int(input('Length (cm): '))\n",
    "height = int(input('Height (cm): '))\n",
    "\n",
    "if width <= 15 and length <= 15 and height <= 15:\n",
    "    print('Box #1.')\n",
    "elif max(width, length, height) > 200:\n",
    "    print('Box for Ski.')\n",
    "elif max(width, length, height) > 15 and max(width, length, height) < 50:\n",
    "    print('Box #2.')\n",
    "else:\n",
    "    print('Box #3.')"
   ]
  },
  {
   "cell_type": "markdown",
   "metadata": {},
   "source": [
    "## Task 5"
   ]
  },
  {
   "cell_type": "markdown",
   "metadata": {},
   "source": [
    "You have a variable that stores a six-digit number (a ticket number). Write a program that will determine whether this ticket is \"lucky\". A ticket is considered lucky if the sum of its first three digits is equal to the sum of the last three digits of the number.  \n",
    "\n",
    "### Example:  \n",
    "1. ```number = 123456```\n",
    "\n",
    "Result:  \n",
    "`Not Lucky ticket`  \n",
    "  \n",
    "2. ```number = 123321```\n",
    "\n",
    "Result:  \n",
    "`Lucky`\n"
   ]
  },
  {
   "cell_type": "code",
   "execution_count": 1,
   "metadata": {},
   "outputs": [
    {
     "name": "stdout",
     "output_type": "stream",
     "text": [
      "Check your Luck!\n",
      "Input ticket number: 1236321\n",
      "Lucky!\n"
     ]
    }
   ],
   "source": [
    "print('Check your Luck!')\n",
    "TicketNumber = input('Input ticket number: ')\n",
    "Length = len (TicketNumber)\n",
    "\n",
    "##Check if ticket number is numeric or not\n",
    "if not(str.isdigit(TicketNumber)):\n",
    "    print('Sorry, but Ticket Number should be numeric.')\n",
    "elif Length < 6:\n",
    "    print('Sorry, but Ticket Number is too short to be Lucky.')\n",
    "elif int(TicketNumber[0]) + int(TicketNumber[1]) + int(TicketNumber[2])  == int(TicketNumber[Length-1]) + int(TicketNumber[Length-2]) + int(TicketNumber[Length-3]):\n",
    "    print('Lucky!')\n",
    "else: print('I am so sorry, You will be lucky next time.')"
   ]
  },
  {
   "cell_type": "markdown",
   "metadata": {},
   "source": [
    "## Task 6"
   ]
  },
  {
   "cell_type": "markdown",
   "metadata": {},
   "source": [
    "Write a program that can calculate the areas of three shapes (circle, triangle, and rectangle).\n",
    "We request the type of shape through user input, and then we ask for the characteristics of the shape:\n",
    "\n",
    " - If the user selects a circle, we request its radius.\n",
    " - If it's a triangle, we ask for the lengths of its three sides.\n",
    " - If it's a rectangle, we ask for the lengths of its two sides.\n",
    "\n",
    "### Example of the program's operation: \n",
    "\n",
    "1.  \n",
    "\n",
    "```\n",
    "Enter the type of shape:\n",
    "Circle\n",
    "\n",
    "Enter the radius of the circle:\n",
    "10\n",
    "```\n",
    "Result:  \n",
    "`Square of the circle: 314.16`  \n",
    "\n",
    "2.  \n",
    "\n",
    "```\n",
    "Enter the type of shape:\n",
    "Triangle\n",
    "\n",
    "Enter the length of side A:\n",
    "2\n",
    "\n",
    "Enter the length of side B:\n",
    "2\n",
    "\n",
    "Enter the length of side C:\n",
    "3\n",
    "```\n",
    "Result:  \n",
    "`Square of Triangle: 1.98`"
   ]
  },
  {
   "cell_type": "code",
   "execution_count": 7,
   "metadata": {},
   "outputs": [
    {
     "name": "stdout",
     "output_type": "stream",
     "text": [
      "Hi, I am Smarty. I can calculate square of circle, triangle and rectangle.\n",
      "Input type of Figure (Circle, Triangle or Rectangle): Rectangle\n",
      "Input side A: 5\n",
      "Input side B: 5\n",
      "The square of Rectangle is 25\n"
     ]
    }
   ],
   "source": [
    "#Include Mumpy Library for using number Pi\n",
    "import numpy\n",
    "\n",
    "print('Hi, I am Smarty. I can calculate square of circle, triangle and rectangle.')\n",
    "\n",
    "Figure = input('Input type of Figure (Circle, Triangle or Rectangle): ').capitalize()\n",
    "\n",
    "if Figure not in ('Circle', 'Triangle', 'Rectangle'):\n",
    "    \n",
    "    print('Sorry, but I do not know how to calculate square for ' + str(Figure))\n",
    "    \n",
    "elif Figure == 'Circle':\n",
    "    \n",
    "    radius = int(input('Input Radius: '))\n",
    "    square = numpy.pi*radius**2\n",
    "    \n",
    "elif Figure == 'Triangle':\n",
    "\n",
    "    base = int(input('Input Triangle Base: '))\n",
    "    height = int(input('Input Triangle Height: '))\n",
    "    square = (base * height) / 2\n",
    "    \n",
    "else: \n",
    "    #Figure == 'Rectangle': \n",
    "    a = int(input('Input side A: '))\n",
    "    b = int(input('Input side B: '))\n",
    "    square = a * b\n",
    "\n",
    "print('The square of ' + str(Figure) + ' is ' + str(square))\n",
    "    "
   ]
  }
 ],
 "metadata": {
  "kernelspec": {
   "display_name": "Python 3 (ipykernel)",
   "language": "python",
   "name": "python3"
  },
  "language_info": {
   "codemirror_mode": {
    "name": "ipython",
    "version": 3
   },
   "file_extension": ".py",
   "mimetype": "text/x-python",
   "name": "python",
   "nbconvert_exporter": "python",
   "pygments_lexer": "ipython3",
   "version": "3.11.5"
  }
 },
 "nbformat": 4,
 "nbformat_minor": 2
}
