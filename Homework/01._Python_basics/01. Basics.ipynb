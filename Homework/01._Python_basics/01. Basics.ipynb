{
 "cells": [
  {
   "cell_type": "markdown",
   "metadata": {},
   "source": [
    "# Домашнее задание к лекции \"Основы Python\""
   ]
  },
  {
   "cell_type": "markdown",
   "metadata": {},
   "source": [
    "## Задание 1\n",
    "\n",
    "Даны 2 переменных, в которых хранятся строки произвольной длины: phrase_1 и phrase_2.\n",
    "Напишите код, который проверяет какая из этих строк длиннее."
   ]
  },
  {
   "cell_type": "code",
   "execution_count": 49,
   "metadata": {},
   "outputs": [
    {
     "name": "stdout",
     "output_type": "stream",
     "text": [
      "Фраза 2 длиннее Фразы 1\n",
      "Конец программы\n"
     ]
    }
   ],
   "source": [
    "phrase_1='test'\n",
    "phrase_2='test2'\n",
    "if len(phrase_1)>len(phrase_2):\n",
    "    print ('Фраза 1 длиннее Фразе 2')\n",
    "elif len(phrase_1)==len(phrase_2):\n",
    "    print ('Фраза 1 равна Фразы 2')\n",
    "else: print ('Фраза 2 длиннее Фразы 1')\n",
    "    \n",
    "print('Конец программы')"
   ]
  },
  {
   "cell_type": "markdown",
   "metadata": {},
   "source": [
    "## Задание 2\n",
    "\n",
    "Дана переменная, в которой хранится четырехзначное число (год). Необходимо написать программу, которая выведет, является ли данный год високосным или обычным.\n"
   ]
  },
  {
   "cell_type": "code",
   "execution_count": 50,
   "metadata": {},
   "outputs": [
    {
     "name": "stdout",
     "output_type": "stream",
     "text": [
      "Обычный год\n",
      "Конец программы\n"
     ]
    }
   ],
   "source": [
    "year = 2021\n",
    "if year % 4 != 0 or (year % 100 == 0 and year % 400 != 0):\n",
    "    print(\"Обычный год\")\n",
    "else:\n",
    "    print(\"Високосный год\")\n",
    "    \n",
    "print('Конец программы')"
   ]
  },
  {
   "cell_type": "markdown",
   "metadata": {},
   "source": [
    "## Задание 3\n",
    "\n",
    "Необходимо написать программу, которая будет запрашивать у пользователя месяц и дату рождения и выводить соответствующий знак зодиака.\n",
    "\n",
    "- Овен: 21 марта — 19 апреля\n",
    "- Телец: 20 апреля — 20 мая\n",
    "- Близнецы: 21 мая — 20 июня\n",
    "- Рак: 21 июня — 22 июля\n",
    "- Лев: 23 июля — 22 августа\n",
    "- Дева: 23 августа — 22 сентября\n",
    "- Весы: 23 сентября — 22 октября\n",
    "- Скорпион: 23 октября — 21 ноября\n",
    "- Стрелец: 22 ноября — 21 декабря\n",
    "- Козерог: 22 декабря — 19 января\n",
    "- Водолей: 20 января — 18 февраля\n",
    "- Рыбы: 19 февраля — 20 марта"
   ]
  },
  {
   "cell_type": "code",
   "execution_count": 7,
   "metadata": {},
   "outputs": [
    {
     "name": "stdout",
     "output_type": "stream",
     "text": [
      "Введите день:16\n",
      "Введите месяц:апрель\n",
      "Знак зодиака: Овен\n",
      "Конец программы\n"
     ]
    }
   ],
   "source": [
    "day = int(input('Введите день:'))\n",
    "month = str(input('Введите месяц:'))\n",
    "\n",
    "###Проверяем что день месяце >0 и <=31\n",
    "if day<=0: print ('Введен некорректный день месяца.')\n",
    "elif (month.capitalize() not in ('Январь','Февраль','Март','Апрель','Май','Июнь','Июль','Август','Сентябрь','Октябрь','Ноябрь','Декабрь')): \n",
    "    print ('Месяц введен неверно.')\n",
    "#Проверяем, что если месяц Февраль, то день не может быть больше 29\n",
    "#Проверяем, что если месяц - апрель, июнь, сентябрь или ноябрь, то день месяца не может быть больше 30   \n",
    "elif (month.capitalize()=='Февраль' and day>29): \n",
    "    print('В месяце '+ month.capitalize() +' только 29 дней')\n",
    "elif (month.capitalize() in ('Апрель','Июнь','Сентябрь','Ноябрь') and day>30):\n",
    "        print('В месяце '+ month.capitalize() +' только 30 дней')\n",
    "elif ( day>31):\n",
    "        print('В месяце '+ month.capitalize() +' только 31 день')        \n",
    "elif (month.capitalize()=='Декабрь' and day>22) or (month.capitalize()=='Январь' and day<19):\n",
    "        print('Знак зодиака: Козерог')\n",
    "elif (month.capitalize()=='Январь' and day>=20) or (month.capitalize()=='Февраль' and day<=18):\n",
    "        print('Знак зодиака: Водолей')\n",
    "elif (month.capitalize()=='Февраль' and day>=19) or (month.capitalize()=='Март' and day<=20):\n",
    "        print('Знак зодиака: Рыбы')\n",
    "elif (month.capitalize()=='Март' and day>=21) or (month.capitalize()=='Апрель' and day<=19): \n",
    "        print('Знак зодиака: Овен')\n",
    "elif (month.capitalize()=='Апрель' and day>=20) or (month.capitalize()=='Май' and day<=20): \n",
    "        print('Знак зодиака: Телец')\n",
    "elif (month.capitalize()=='Май' and day>=21) or (month.capitalize()=='Июнь' and day<=20): \n",
    "        print('Знак зодиака: Близнецы')\n",
    "elif (month.capitalize()=='Июнь' and day>=21) or (month.capitalize()=='Июль' and day<=22): \n",
    "        print('Знак зодиака: Рак')\n",
    "elif (month.capitalize()=='Июль' and day>=23) or (month.capitalize()=='Август' and day<=22): \n",
    "        print('Знак зодиака: Лев')\n",
    "elif (month.capitalize()=='Август' and day>=23) or (month.capitalize()=='Сентябрь' and day<=22): \n",
    "        print('Знак зодиака: Дева')\n",
    "elif (month.capitalize()=='Сентябрь' and day>=23) or (month.capitalize()=='Октябрь' and day<=22): \n",
    "        print('Знак зодиака: Весы')\n",
    "elif (month.capitalize()=='Октябрь' and day>=23) or (month.capitalize()=='Ноябрь' and day<=21): \n",
    "        print('Знак зодиака: Скорпион')\n",
    "else: print ('Знак зодиака: Стрелец')\n",
    "    \n",
    "print('Конец программы')"
   ]
  },
  {
   "cell_type": "markdown",
   "metadata": {},
   "source": [
    "## Задание 4\n",
    "\n",
    "\n",
    "Вам нужно написать программу для подбора упаковок по размерам товара. Размеры хранятся в переменных (в сантиметрах):\n",
    "\n",
    "width = 10\n",
    "length = 205\n",
    "height = 5\n",
    "Используйте следующие правила:\n",
    "\n",
    "- если каждое из трех измерений менее 15 сантиметров, то выведите на экран \"Коробка №1\";\n",
    "- если хотя бы одно из измерений больше 15 сантиметров, но менее 50 сантиметров, то выводите \"Коробка №2\";\n",
    "- если длина товара больше 2 метров, то выводите \"Упаковка для лыж\";\n",
    "- во всех остальных случаях выводите \"Стандартная коробка №3\"."
   ]
  },
  {
   "cell_type": "code",
   "execution_count": 15,
   "metadata": {},
   "outputs": [
    {
     "name": "stdout",
     "output_type": "stream",
     "text": [
      "Введите ширину товара:12\n",
      "Введите длину товара:50\n",
      "Введите высоту товара:205\n",
      "Вам подойдет:\n",
      "Стандартная коробка №3\n"
     ]
    }
   ],
   "source": [
    "w=int(input('Введите ширину товара:'))\n",
    "l=int(input('Введите длину товара:'))\n",
    "h=int(input('Введите высоту товара:'))\n",
    "\n",
    "print('Вам подойдет:')\n",
    "if w<15 and l<15 and h<15:\n",
    "    print('Коробка №1')\n",
    "elif w<50 and l<50 and h<50:\n",
    "    print('Коробка №2')\n",
    "    ##В случае если упаковка для лыж подбирается на основании любого измерения, заменить условие на l>200 or w>200 or h>200\n",
    "elif l>200:\n",
    "    print('Коробка для лыж')\n",
    "else: print('Стандартная коробка №3')"
   ]
  },
  {
   "cell_type": "code",
   "execution_count": null,
   "metadata": {},
   "outputs": [],
   "source": []
  }
 ],
 "metadata": {
  "celltoolbar": "Редактировать метаданные",
  "kernelspec": {
   "display_name": "Python 3",
   "language": "python",
   "name": "python3"
  },
  "language_info": {
   "codemirror_mode": {
    "name": "ipython",
    "version": 3
   },
   "file_extension": ".py",
   "mimetype": "text/x-python",
   "name": "python",
   "nbconvert_exporter": "python",
   "pygments_lexer": "ipython3",
   "version": "3.8.5"
  }
 },
 "nbformat": 4,
 "nbformat_minor": 4
}
